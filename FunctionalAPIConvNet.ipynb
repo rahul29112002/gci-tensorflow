{
 "cells": [
  {
   "cell_type": "code",
   "execution_count": 1,
   "metadata": {},
   "outputs": [],
   "source": [
    "import tensorflow as tf \n",
    "import pandas as pd \n",
    "import numpy as np \n",
    "import matplotlib.pyplot as plt "
   ]
  },
  {
   "cell_type": "markdown",
   "metadata": {},
   "source": [
    "Now that we're set with all the necessary imports, we go on to construct our model"
   ]
  },
  {
   "cell_type": "code",
   "execution_count": 2,
   "metadata": {},
   "outputs": [
    {
     "name": "stdout",
     "output_type": "stream",
     "text": [
      "Model: \"mnist_model\"\n",
      "_________________________________________________________________\n",
      "Layer (type)                 Output Shape              Param #   \n",
      "=================================================================\n",
      "input_layer (InputLayer)     [(None, 28, 28, 1)]       0         \n",
      "_________________________________________________________________\n",
      "conv_layer_1 (Conv2D)        (None, 26, 26, 15)        150       \n",
      "_________________________________________________________________\n",
      "pooling_layer_1 (MaxPooling2 (None, 13, 13, 15)        0         \n",
      "_________________________________________________________________\n",
      "conv_layer_2 (Conv2D)        (None, 11, 11, 12)        1632      \n",
      "_________________________________________________________________\n",
      "pooling_layer_2 (MaxPooling2 (None, 5, 5, 12)          0         \n",
      "_________________________________________________________________\n",
      "flatten_layer (Flatten)      (None, 300)               0         \n",
      "_________________________________________________________________\n",
      "output_layer (Dense)         (None, 10)                3010      \n",
      "=================================================================\n",
      "Total params: 4,792\n",
      "Trainable params: 4,792\n",
      "Non-trainable params: 0\n",
      "_________________________________________________________________\n",
      "None\n"
     ]
    }
   ],
   "source": [
    "input = tf.keras.Input(shape=(28, 28, 1), name = 'input_layer')\n",
    "x = tf.keras.layers.Conv2D(filters = 15, \n",
    "                            kernel_size = 3, \n",
    "                            input_shape = (28, 28, 1), \n",
    "                            name = 'conv_layer_1') (input)\n",
    "x = tf.keras.layers.MaxPooling2D(pool_size = 2, name = 'pooling_layer_1') (x)\n",
    "x = tf.keras.layers.Conv2D(filters = 12, \n",
    "                            kernel_size = 3, \n",
    "                            input_shape = (13, 13, 10), \n",
    "                            name = 'conv_layer_2') (x)\n",
    "x = tf.keras.layers.MaxPooling2D(pool_size = 2, name = 'pooling_layer_2') (x)\n",
    "x = tf.keras.layers.Flatten(name = 'flatten_layer') (x)\n",
    "output = tf.keras.layers.Dense(10, activation = 'softmax', name = 'output_layer') (x)\n",
    "\n",
    "model = tf.keras.Model(inputs = input, outputs = output, name = 'mnist_model')\n",
    "\n",
    "print(model.summary())"
   ]
  },
  {
   "cell_type": "markdown",
   "metadata": {},
   "source": [
    "Our model consists of 2 convolutional layers, the first comprising of 15 kernels and the second one comprising of 12. In both these layers, the kernel size is the same, 3. We finally have a flattening layer and the output layer."
   ]
  },
  {
   "cell_type": "code",
   "execution_count": 3,
   "metadata": {},
   "outputs": [],
   "source": [
    "(x_train, y_train), (x_test, y_test) = tf.keras.datasets.mnist.load_data()\n",
    "x_train = tf.expand_dims(x_train, 3)\n",
    "x_test = tf.expand_dims(x_test, 3)\n",
    "model.compile(loss = 'sparse_categorical_crossentropy',\n",
    "                optimizer = tf.keras.optimizers.Adam(),\n",
    "                metrics = ['accuracy'])"
   ]
  },
  {
   "cell_type": "markdown",
   "metadata": {},
   "source": [
    "We load the data set and expand the features by one dimension since the convolution layer takes in a 4-tensor while the features are 3-tensors. We use the *Adam optimizer* and *sparse categorical cross-entropy* as our loss function. We use *accuracy* as the metric of the model. "
   ]
  },
  {
   "cell_type": "code",
   "execution_count": 4,
   "metadata": {},
   "outputs": [
    {
     "name": "stdout",
     "output_type": "stream",
     "text": [
      "Train on 60000 samples, validate on 10000 samples\n",
      "Epoch 1/5\n",
      "60000/60000 [==============================] - 40s 665us/sample - loss: 2.3673 - accuracy: 0.8634 - val_loss: 0.3112 - val_accuracy: 0.9427\n",
      "Epoch 2/5\n",
      "60000/60000 [==============================] - 70s 1ms/sample - loss: 0.2729 - accuracy: 0.9464 - val_loss: 0.2413 - val_accuracy: 0.9434\n",
      "Epoch 3/5\n",
      "60000/60000 [==============================] - 71s 1ms/sample - loss: 0.1599 - accuracy: 0.9602 - val_loss: 0.1331 - val_accuracy: 0.9643\n",
      "Epoch 4/5\n",
      "60000/60000 [==============================] - 72s 1ms/sample - loss: 0.1287 - accuracy: 0.9651 - val_loss: 0.1122 - val_accuracy: 0.9691\n",
      "Epoch 5/5\n",
      "60000/60000 [==============================] - 71s 1ms/sample - loss: 0.1129 - accuracy: 0.9697 - val_loss: 0.1382 - val_accuracy: 0.9650\n"
     ]
    }
   ],
   "source": [
    "history = model.fit(x_train, y_train, epochs = 5, validation_data = (x_test, y_test))"
   ]
  },
  {
   "cell_type": "markdown",
   "metadata": {},
   "source": [
    "We train the model for 5 epochs and achieve a maximum validation accuracy of 96.91 % and a maximum accuracy of 96.97%."
   ]
  }
 ],
 "metadata": {
  "kernelspec": {
   "display_name": "Python 3",
   "language": "python",
   "name": "python3"
  },
  "language_info": {
   "codemirror_mode": {
    "name": "ipython",
    "version": 3
   },
   "file_extension": ".py",
   "mimetype": "text/x-python",
   "name": "python",
   "nbconvert_exporter": "python",
   "pygments_lexer": "ipython3",
   "version": "3.7.2"
  }
 },
 "nbformat": 4,
 "nbformat_minor": 2
}
